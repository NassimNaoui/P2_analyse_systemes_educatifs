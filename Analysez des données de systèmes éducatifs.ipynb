{
 "cells": [
  {
   "cell_type": "markdown",
   "id": "e9fba6d2",
   "metadata": {},
   "source": [
    "# 📊📚 Analysez des données de systèmes éducatifs"
   ]
  },
  {
   "cell_type": "markdown",
   "id": "57b74502",
   "metadata": {},
   "source": [
    "## Sommaire\n",
    "[Introduction](#Introduction)  \n",
    "\n",
    "[1. Librairies et chargement des data](#1.-Librairies-et-chargement-des-data)\n",
    "- [a. Librairies importées](#a.-Librairies-importées)\n",
    "- [b. Chargement des fichiers CSV](#b.-Chargement-des-fichiers-CSV)\n",
    "- [c. Création du log df](#c.-Création-du-log-df) "
   ]
  },
  {
   "cell_type": "markdown",
   "id": "ed372268",
   "metadata": {},
   "source": [
    "## Introduction"
   ]
  },
  {
   "cell_type": "markdown",
   "id": "6345236d",
   "metadata": {},
   "source": [
    "Academy est une plateforme d'éducation en ligne pour les étudiants du niveau lycée et université.\n",
    "La start-up qui a développé la plateforme souhaite l'étendre à un niveau internationnal. \n",
    "\n",
    "Pour ce faire, il faut dans un premier temps **s'assurer que les données récoltées de la banque mondiale sont exploitables** pour enrichir la réflexion. \n",
    "Puis, dans un second temps, **identifier les pays cibles avec un fort potentiel** et voir leur évolution dans le temps."
   ]
  },
  {
   "cell_type": "markdown",
   "id": "b9aaceea",
   "metadata": {},
   "source": [
    "### 1. Librairies et chargement des data"
   ]
  },
  {
   "cell_type": "markdown",
   "id": "9d0068fe",
   "metadata": {},
   "source": [
    "#### a. Librairies importées"
   ]
  },
  {
   "cell_type": "code",
   "execution_count": 122,
   "id": "c75628dd",
   "metadata": {},
   "outputs": [],
   "source": [
    "import pandas as pd\n",
    "import numpy as np\n",
    "import ipywidgets as widgets\n",
    "from IPython.display import display"
   ]
  },
  {
   "cell_type": "markdown",
   "id": "9b356c09",
   "metadata": {},
   "source": [
    "#### b. Chargement des fichiers CSV"
   ]
  },
  {
   "cell_type": "code",
   "execution_count": 123,
   "id": "527fa433",
   "metadata": {},
   "outputs": [],
   "source": [
    "df_data = pd.read_csv('./dataset/EdStatsData.csv')\n",
    "df_country_series = pd.read_csv('./dataset/EdStatsCountry-Series.csv')\n",
    "df_country = pd.read_csv('./dataset/EdStatsCountry.csv')\n",
    "df_foot_note = pd.read_csv('./dataset/EdStatsFootNote.csv')\n",
    "df_stats_series = pd.read_csv('./dataset/EdStatsSeries.csv')"
   ]
  },
  {
   "cell_type": "markdown",
   "id": "326490fc",
   "metadata": {},
   "source": [
    "###### Description des DF\n",
    "\n",
    "**df_data** : Ensemble des indicateurs par pays et par années (1970 à 2100)\n",
    "\n",
    "**df_country** : Liste d'informations complémentaires concernant les pays\n",
    "\n",
    "**df_country_series** : Indicateurs démographiques et économiques par année et par pays présents dans df_data\n",
    "\n",
    "**df_stats_series** : Lexique des indicateurs\n",
    "\n",
    "**df_foot_note** : Informations additionnelles sur les indicateurs basées sur l'année, le type d'indicateur et le pays dans df_data"
   ]
  },
  {
   "cell_type": "markdown",
   "id": "d2807d95",
   "metadata": {},
   "source": [
    "#### c. Création du log df "
   ]
  },
  {
   "cell_type": "code",
   "execution_count": 124,
   "id": "4b177804",
   "metadata": {},
   "outputs": [],
   "source": [
    "#Log df infos\n",
    "dic = {\"df_data\" : df_data, \"df_country\":df_country, \"df_country_series\" : df_country_series, \n",
    "           \"df_foot_note\" : df_foot_note, \"df_stats_series\" : df_stats_series}\n",
    "\n",
    "\n",
    "cat_log = ['shape','duplicated_rows','na_rate', 'stats','nunique_cat']\n",
    "\n",
    "obj_log = {\n",
    "    'log_cat': cat_log,\n",
    "    \"df_data\": [None] * len(cat_log),\n",
    "    \"df_country\": [None] * len(cat_log),\n",
    "    \"df_country_series\": [None] * len(cat_log),\n",
    "    \"df_foot_note\": [None] * len(cat_log),\n",
    "    \"df_stats_series\": [None] * len(cat_log)\n",
    "}\n",
    "\n",
    "df_log = pd.DataFrame(obj_log)"
   ]
  },
  {
   "cell_type": "code",
   "execution_count": 125,
   "id": "68c26c35",
   "metadata": {},
   "outputs": [],
   "source": [
    "dic_keys = list(dic.keys())\n",
    "\n",
    "for df_name in dic_keys:\n",
    "    \n",
    "    #Shape\n",
    "    shape_value = dic[df_name].shape\n",
    "    df_log.loc[df_log['log_cat'] == 'shape', df_name] = [shape_value]\n",
    "    \n",
    "    #duplicated_rows\n",
    "    duplicates = dic[df_name].duplicated().sum()\n",
    "    df_log.loc[df_log['log_cat'] == 'duplicated_rows', df_name] = [duplicates]\n",
    "    \n",
    "    #na_rate\n",
    "    na_rate = round(dic[df_name].isna().sum() / len(dic[df_name]),2)\n",
    "    df_log.loc[df_log['log_cat'] == 'na_rate', df_name] = [na_rate]\n",
    "    \n",
    "    #stats df.describe(include=[np.number])\n",
    "    stats_report = dic[df_name].describe(include=[np.number])\n",
    "    df_log.loc[df_log['log_cat'] == 'stats', df_name] = [stats_report]\n",
    "    \n",
    "    #Nb uniques categories df_obj = df.select_dtypes(include='object')\n",
    "    unique_categories = dic[df_name].select_dtypes(include='object').nunique()\n",
    "    df_log.loc[df_log['log_cat'] == 'nunique_cat', df_name] = [unique_categories]\n",
    "    \n",
    "del dic"
   ]
  },
  {
   "cell_type": "code",
   "execution_count": 126,
   "id": "9baccdcf",
   "metadata": {},
   "outputs": [
    {
     "data": {
      "text/html": [
       "<div>\n",
       "<style scoped>\n",
       "    .dataframe tbody tr th:only-of-type {\n",
       "        vertical-align: middle;\n",
       "    }\n",
       "\n",
       "    .dataframe tbody tr th {\n",
       "        vertical-align: top;\n",
       "    }\n",
       "\n",
       "    .dataframe thead th {\n",
       "        text-align: right;\n",
       "    }\n",
       "</style>\n",
       "<table border=\"1\" class=\"dataframe\">\n",
       "  <thead>\n",
       "    <tr style=\"text-align: right;\">\n",
       "      <th></th>\n",
       "      <th>log_cat</th>\n",
       "      <th>df_data</th>\n",
       "      <th>df_country</th>\n",
       "      <th>df_country_series</th>\n",
       "      <th>df_foot_note</th>\n",
       "      <th>df_stats_series</th>\n",
       "    </tr>\n",
       "  </thead>\n",
       "  <tbody>\n",
       "    <tr>\n",
       "      <th>0</th>\n",
       "      <td>shape</td>\n",
       "      <td>(886930, 70)</td>\n",
       "      <td>(241, 32)</td>\n",
       "      <td>(613, 4)</td>\n",
       "      <td>(643638, 5)</td>\n",
       "      <td>(3665, 21)</td>\n",
       "    </tr>\n",
       "    <tr>\n",
       "      <th>1</th>\n",
       "      <td>duplicated_rows</td>\n",
       "      <td>0</td>\n",
       "      <td>0</td>\n",
       "      <td>0</td>\n",
       "      <td>0</td>\n",
       "      <td>0</td>\n",
       "    </tr>\n",
       "    <tr>\n",
       "      <th>2</th>\n",
       "      <td>na_rate</td>\n",
       "      <td>Country Name      0.00\n",
       "Country Code      0.00\n",
       "...</td>\n",
       "      <td>Country Code                                  ...</td>\n",
       "      <td>CountryCode    0.0\n",
       "SeriesCode     0.0\n",
       "DESCRIPT...</td>\n",
       "      <td>CountryCode    0.0\n",
       "SeriesCode     0.0\n",
       "Year    ...</td>\n",
       "      <td>Series Code                            0.00\n",
       "To...</td>\n",
       "    </tr>\n",
       "    <tr>\n",
       "      <th>3</th>\n",
       "      <td>stats</td>\n",
       "      <td>1970          1971          197...</td>\n",
       "      <td>National accounts reference year  Lates...</td>\n",
       "      <td>Unnamed: 3\n",
       "count         0.0\n",
       "mean      ...</td>\n",
       "      <td>Unnamed: 4\n",
       "count         0.0\n",
       "mean      ...</td>\n",
       "      <td>Unit of measure  Notes from original so...</td>\n",
       "    </tr>\n",
       "    <tr>\n",
       "      <th>4</th>\n",
       "      <td>nunique_cat</td>\n",
       "      <td>Country Name       242\n",
       "Country Code       242\n",
       "...</td>\n",
       "      <td>Country Code                                  ...</td>\n",
       "      <td>CountryCode    211\n",
       "SeriesCode      21\n",
       "DESCRIPT...</td>\n",
       "      <td>CountryCode     239\n",
       "SeriesCode     1558\n",
       "Year  ...</td>\n",
       "      <td>Series Code                            3665\n",
       "To...</td>\n",
       "    </tr>\n",
       "  </tbody>\n",
       "</table>\n",
       "</div>"
      ],
      "text/plain": [
       "           log_cat                                            df_data  \\\n",
       "0            shape                                       (886930, 70)   \n",
       "1  duplicated_rows                                                  0   \n",
       "2          na_rate  Country Name      0.00\n",
       "Country Code      0.00\n",
       "...   \n",
       "3            stats                 1970          1971          197...   \n",
       "4      nunique_cat  Country Name       242\n",
       "Country Code       242\n",
       "...   \n",
       "\n",
       "                                          df_country  \\\n",
       "0                                          (241, 32)   \n",
       "1                                                  0   \n",
       "2  Country Code                                  ...   \n",
       "3         National accounts reference year  Lates...   \n",
       "4  Country Code                                  ...   \n",
       "\n",
       "                                   df_country_series  \\\n",
       "0                                           (613, 4)   \n",
       "1                                                  0   \n",
       "2  CountryCode    0.0\n",
       "SeriesCode     0.0\n",
       "DESCRIPT...   \n",
       "3         Unnamed: 3\n",
       "count         0.0\n",
       "mean      ...   \n",
       "4  CountryCode    211\n",
       "SeriesCode      21\n",
       "DESCRIPT...   \n",
       "\n",
       "                                        df_foot_note  \\\n",
       "0                                        (643638, 5)   \n",
       "1                                                  0   \n",
       "2  CountryCode    0.0\n",
       "SeriesCode     0.0\n",
       "Year    ...   \n",
       "3         Unnamed: 4\n",
       "count         0.0\n",
       "mean      ...   \n",
       "4  CountryCode     239\n",
       "SeriesCode     1558\n",
       "Year  ...   \n",
       "\n",
       "                                     df_stats_series  \n",
       "0                                         (3665, 21)  \n",
       "1                                                  0  \n",
       "2  Series Code                            0.00\n",
       "To...  \n",
       "3         Unit of measure  Notes from original so...  \n",
       "4  Series Code                            3665\n",
       "To...  "
      ]
     },
     "execution_count": 126,
     "metadata": {},
     "output_type": "execute_result"
    }
   ],
   "source": [
    "df_log"
   ]
  },
  {
   "cell_type": "code",
   "execution_count": 127,
   "id": "cfb5fba0",
   "metadata": {},
   "outputs": [
    {
     "data": {
      "application/vnd.jupyter.widget-view+json": {
       "model_id": "1665cbcfdb724247b6e63edc9412ee37",
       "version_major": 2,
       "version_minor": 0
      },
      "text/plain": [
       "ToggleButtons(description='Category:', options=('shape', 'duplicated_rows', 'na_rate', 'stats', 'nunique_cat')…"
      ]
     },
     "metadata": {},
     "output_type": "display_data"
    },
    {
     "data": {
      "application/vnd.jupyter.widget-view+json": {
       "model_id": "387c9e0cb2a64fdd9208a2e44a6a2607",
       "version_major": 2,
       "version_minor": 0
      },
      "text/plain": [
       "ToggleButtons(description='Dataframe:', options=('df_data', 'df_country', 'df_country_series', 'df_foot_note',…"
      ]
     },
     "metadata": {},
     "output_type": "display_data"
    },
    {
     "data": {
      "application/vnd.jupyter.widget-view+json": {
       "model_id": "4d691be953904cdc849ac0ff4fb3dab6",
       "version_major": 2,
       "version_minor": 0
      },
      "text/plain": [
       "Output()"
      ]
     },
     "metadata": {},
     "output_type": "display_data"
    }
   ],
   "source": [
    "# Widgets : Toggle pour log_cat et Toggle pour les colonnes\n",
    "toggle_cat = widgets.ToggleButtons(\n",
    "    options=df_log['log_cat'].values,\n",
    "    description='Category:',\n",
    "    button_style=''\n",
    ")\n",
    "\n",
    "toggle_df = widgets.ToggleButtons(\n",
    "    options=df_log.columns[1:],\n",
    "    description='Dataframe:',\n",
    "    button_style=''\n",
    ")\n",
    "\n",
    "# Output widget pour afficher le résultat\n",
    "out = widgets.Output()\n",
    "\n",
    "# Callback qui combine les deux sélections\n",
    "def update_value(change):\n",
    "    category_name = toggle_cat.value\n",
    "    df_name = toggle_df.value\n",
    "    \n",
    "    with out:\n",
    "        out.clear_output()\n",
    "        try:\n",
    "            valeur = df_log.loc[df_log['log_cat'] == category_name, df_name].iloc[0]\n",
    "            display(valeur)\n",
    "        except Exception as e:\n",
    "            print(\"Erreur :\", e)\n",
    "\n",
    "# Observer les changements sur les deux widgets\n",
    "toggle_cat.observe(update_value, names='value')\n",
    "toggle_df.observe(update_value, names='value')\n",
    "\n",
    "# Affichage\n",
    "display(toggle_cat, toggle_df, out)"
   ]
  }
 ],
 "metadata": {
  "kernelspec": {
   "display_name": "Python 3 (ipykernel)",
   "language": "python",
   "name": "python3"
  },
  "language_info": {
   "codemirror_mode": {
    "name": "ipython",
    "version": 3
   },
   "file_extension": ".py",
   "mimetype": "text/x-python",
   "name": "python",
   "nbconvert_exporter": "python",
   "pygments_lexer": "ipython3",
   "version": "3.9.12"
  }
 },
 "nbformat": 4,
 "nbformat_minor": 5
}
